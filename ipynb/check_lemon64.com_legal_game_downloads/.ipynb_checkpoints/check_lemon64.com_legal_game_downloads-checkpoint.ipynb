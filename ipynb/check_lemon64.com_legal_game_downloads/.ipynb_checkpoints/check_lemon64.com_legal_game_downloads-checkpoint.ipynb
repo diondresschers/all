{
 "cells": [
  {
   "cell_type": "code",
   "execution_count": null,
   "id": "8a60a1fa",
   "metadata": {},
   "outputs": [
    {
     "name": "stdout",
     "output_type": "stream",
     "text": [
      "https://www.lemon64.com/games/details.php?ID=1\n",
      "https://www.lemon64.com/games/details.php?ID=2\n",
      "https://www.lemon64.com/games/details.php?ID=3\n",
      "https://www.lemon64.com/games/details.php?ID=4\n",
      "https://www.lemon64.com/games/details.php?ID=5\n",
      "https://www.lemon64.com/games/details.php?ID=6\n",
      "https://www.lemon64.com/games/details.php?ID=28\n",
      "https://www.lemon64.com/games/details.php?ID=54\n"
     ]
    }
   ],
   "source": [
    "#!pip install wget\n",
    "import wget\n",
    "\n",
    "\n",
    "def url_no_HTTPError_or_URLError(url):\n",
    "    import urllib.request, urllib.error\n",
    "\n",
    "    try:\n",
    "        conn = urllib.request.urlopen(url)\n",
    "    except urllib.error.HTTPError as e:\n",
    "        # Return code error (e.g. 404, 501, ...)\n",
    "        # ...\n",
    "        code = 'HTTPError: {}'.format(e.code)\n",
    "    except urllib.error.URLError as e:\n",
    "        # Not an HTTP-specific error (e.g. connection refused)\n",
    "        # ...\n",
    "        code = 'URLError: {}'.format(e.reason)\n",
    "    else:\n",
    "        code = 'NO_ERROR'\n",
    "    return code\n",
    "    \n",
    "    \n",
    "download_pre_string = \"https://www.lemon64.com/games/download.php?ID=1&gameID=\"\n",
    "for gameID in range(1,5000,1):\n",
    "    url = download_pre_string + str(gameID)\n",
    "    game_page_pre_string = \"https://www.lemon64.com/games/details.php?ID=\"\n",
    "    #print(url)\n",
    "    resultaat = url_no_HTTPError_or_URLError(url)\n",
    "    if resultaat == 'NO_ERROR':\n",
    "        print(game_page_pre_string + str(gameID))\n",
    "    #print(resultaat)"
   ]
  },
  {
   "cell_type": "code",
   "execution_count": 17,
   "id": "b9b99091",
   "metadata": {},
   "outputs": [
    {
     "name": "stdout",
     "output_type": "stream",
     "text": [
      "HTTPError: 404\n"
     ]
    }
   ],
   "source": [
    "\n",
    "\n"
   ]
  },
  {
   "cell_type": "code",
   "execution_count": null,
   "id": "26bd58ea",
   "metadata": {},
   "outputs": [],
   "source": []
  }
 ],
 "metadata": {
  "kernelspec": {
   "display_name": "Python 3",
   "language": "python",
   "name": "python3"
  },
  "language_info": {
   "codemirror_mode": {
    "name": "ipython",
    "version": 3
   },
   "file_extension": ".py",
   "mimetype": "text/x-python",
   "name": "python",
   "nbconvert_exporter": "python",
   "pygments_lexer": "ipython3",
   "version": "3.8.8"
  }
 },
 "nbformat": 4,
 "nbformat_minor": 5
}
