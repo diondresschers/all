{
 "cells": [
  {
   "cell_type": "code",
   "execution_count": null,
   "id": "b0fd8e34",
   "metadata": {},
   "outputs": [],
   "source": [
    "# All credits to: \n",
    "# https://github.com/gkvoelkl/python-sonic\n",
    "# https://sonic-pi.net/"
   ]
  },
  {
   "cell_type": "code",
   "execution_count": 8,
   "id": "505aeb84",
   "metadata": {},
   "outputs": [],
   "source": [
    "# First start Sonic Pi\n",
    "\n",
    "# Only do this once (remove the 'hash'-sign, before the exclamation mark):\n",
    "\n",
    "# Needed for the communication between python-sonic and Sonic Pi:\n",
    "\n",
    "#!pip install python-osc\n",
    "\n",
    "#!pip install python-sonic #"
   ]
  },
  {
   "cell_type": "code",
   "execution_count": 5,
   "id": "02fd7d80",
   "metadata": {},
   "outputs": [],
   "source": [
    "from psonic import *"
   ]
  },
  {
   "cell_type": "code",
   "execution_count": 16,
   "id": "626d157a",
   "metadata": {},
   "outputs": [],
   "source": [
    "# Play MIDI note 70\n",
    "\n",
    "play(100) "
   ]
  },
  {
   "cell_type": "code",
   "execution_count": 19,
   "id": "b94e8fe9",
   "metadata": {},
   "outputs": [],
   "source": [
    "# Some more notes\n",
    "\n",
    "play(72)\n",
    "sleep(1)\n",
    "play(75)\n",
    "sleep(1)\n",
    "play(79)"
   ]
  },
  {
   "cell_type": "code",
   "execution_count": 20,
   "id": "58e0a0f9",
   "metadata": {},
   "outputs": [],
   "source": [
    "# Like above, but in more tratitional music notation\n",
    "\n",
    "play(C5)\n",
    "sleep(1)\n",
    "play(D5)\n",
    "sleep(1)\n",
    "play(G5)"
   ]
  },
  {
   "cell_type": "code",
   "execution_count": 22,
   "id": "ef3d6825",
   "metadata": {},
   "outputs": [],
   "source": [
    "# Play sharp notes like F# or dimished ones like Eb\n",
    "\n",
    "play(Fs5)\n",
    "sleep(0.5)\n",
    "play(Eb5)"
   ]
  },
  {
   "cell_type": "code",
   "execution_count": 32,
   "id": "a1f3d06f",
   "metadata": {},
   "outputs": [],
   "source": [
    "# Play louder (parameter amp) or from a different direction (parameter pan)\n",
    "\n",
    "play(72,amp=2)\n",
    "sleep(0.5)\n",
    "play(74,pan=-1) #left`b"
   ]
  },
  {
   "cell_type": "code",
   "execution_count": 38,
   "id": "3b8a8633",
   "metadata": {},
   "outputs": [],
   "source": [
    "#Different synthesizer sounds\n",
    "\n",
    "use_synth(SAW)\n",
    "play(38)\n",
    "sleep(0.25)\n",
    "play(50)\n",
    "sleep(0.5)\n",
    "use_synth(PROPHET)\n",
    "play(57)\n",
    "sleep(0.25)"
   ]
  },
  {
   "cell_type": "code",
   "execution_count": 39,
   "id": "40600b0c",
   "metadata": {},
   "outputs": [],
   "source": [
    "#ADSR (Attack, Decay, Sustain and Release) Envelope\n",
    "\n",
    "play (60, attack=0.5, decay=1, sustain_level=0.4, sustain=2, release=0.5)\n",
    "sleep(4)"
   ]
  },
  {
   "cell_type": "code",
   "execution_count": 42,
   "id": "6fe42b86",
   "metadata": {},
   "outputs": [],
   "source": [
    "#Play some samples\n",
    "\n",
    "sample(AMBI_LUNAR_LAND, amp=0.5)"
   ]
  },
  {
   "cell_type": "code",
   "execution_count": 45,
   "id": "51513105",
   "metadata": {},
   "outputs": [],
   "source": [
    "#Play some samples\n",
    "\n",
    "sample(LOOP_AMEN,pan=-1)\n",
    "sleep(0.877)\n",
    "sample(LOOP_AMEN,pan=1)"
   ]
  },
  {
   "cell_type": "code",
   "execution_count": 69,
   "id": "be3836f1",
   "metadata": {},
   "outputs": [],
   "source": [
    "# Play some samples\n",
    "\n",
    "sample(LOOP_AMEN,rate=0.5)"
   ]
  },
  {
   "cell_type": "code",
   "execution_count": 62,
   "id": "e02b582d",
   "metadata": {},
   "outputs": [],
   "source": [
    "# Play some samples\n",
    "\n",
    "sample(LOOP_AMEN,rate=1.5)"
   ]
  },
  {
   "cell_type": "code",
   "execution_count": 126,
   "id": "1b6e8afc",
   "metadata": {},
   "outputs": [],
   "source": [
    "# Play some samples\n",
    "\n",
    "sample(LOOP_AMEN,rate=-1)#back"
   ]
  },
  {
   "cell_type": "code",
   "execution_count": 125,
   "id": "efe76ebb",
   "metadata": {},
   "outputs": [],
   "source": [
    "# Play some samples\n",
    "\n",
    "sample(DRUM_CYMBAL_OPEN,attack=0.01,sustain=0.3,release=0.1)"
   ]
  },
  {
   "cell_type": "code",
   "execution_count": 128,
   "id": "11516965",
   "metadata": {},
   "outputs": [],
   "source": [
    "# Play some samples\n",
    "\n",
    "sample(LOOP_AMEN,start=0.5,finish=0.8,rate=-0.2,attack=0.3,release=1)"
   ]
  },
  {
   "cell_type": "code",
   "execution_count": 129,
   "id": "c7beadaa",
   "metadata": {},
   "outputs": [],
   "source": [
    "# Play some random notes\n",
    "\n",
    "import random\n",
    "\n",
    "for i in range(1, 5, 1):\n",
    "    play(random.randrange(50, 100))\n",
    "    sleep(0.5)"
   ]
  },
  {
   "cell_type": "code",
   "execution_count": null,
   "id": "ba8f570f",
   "metadata": {},
   "outputs": [
    {
     "name": "stdout",
     "output_type": "stream",
     "text": [
      "Thanks to Sonic Pi and python-sonic:\n",
      "---\n",
      "78\n",
      "66\n",
      "84\n",
      "---\n",
      "86\n",
      "57\n",
      "87\n",
      "---\n",
      "92\n",
      "54\n",
      "54\n",
      "---\n",
      "67\n",
      "54\n",
      "80\n"
     ]
    }
   ],
   "source": [
    "# not part of Sonic Pi, nor python-sonic\n",
    "\n",
    "from psonic import *\n",
    "import random\n",
    "    \n",
    "def bitterballen_theme():\n",
    "    tones = []\n",
    "    print(\"Thanks to Sonic Pi and python-sonic:\\n---\")\n",
    "    for times in range(4):\n",
    "        for i in range(3):\n",
    "            number = random.randrange(50, 100) # Generate a random number.\n",
    "            tones.append(number) # Add this number to the list, so it can be played back later.\n",
    "            play(number) # This produces the tone\n",
    "            print(number)\n",
    "            sleep(0.5)\n",
    "        print(\"---\")\n",
    "        sleep(0.7)\n",
    "    return tones\n",
    "\n",
    "def playback_tones(recorded_tones):\n",
    "    counter = 0\n",
    "    print(\"===\")\n",
    "    for times in range(4):\n",
    "        for time in range(3):\n",
    "            play(recorded_tones[counter])\n",
    "            print(recorded_tones[counter])\n",
    "            counter += 1\n",
    "            sleep(0.5)\n",
    "        sleep(0.7)\n",
    "        print(\"===\")\n",
    "\n",
    "music = bitterballen_theme()\n",
    "\n",
    "playback_tones(music)"
   ]
  },
  {
   "cell_type": "code",
   "execution_count": 130,
   "id": "bb68256d",
   "metadata": {},
   "outputs": [],
   "source": [
    "# Play some random notes:\n",
    "\n",
    "for i in range(3):\n",
    "    play(random.choice([C5,E5,G5]))\n",
    "    sleep(1)"
   ]
  },
  {
   "cell_type": "code",
   "execution_count": 132,
   "id": "98f8025c",
   "metadata": {
    "collapsed": true
   },
   "outputs": [],
   "source": [
    "# Sample slicing\n",
    "\n",
    "from psonic import *\n",
    "\n",
    "number_of_pieces = 8\n",
    "\n",
    "for i in range(16):\n",
    "    s = random.randrange(0,number_of_pieces)/number_of_pieces #sample starts at 0.0 and finishes at 1.0\n",
    "    f = s + (1.0/number_of_pieces)\n",
    "    sample(LOOP_AMEN,beat_stretch=2,start=s,finish=f)\n",
    "    sleep(2.0/number_of_pieces)\n"
   ]
  },
  {
   "cell_type": "code",
   "execution_count": 133,
   "id": "8fc48b66",
   "metadata": {},
   "outputs": [
    {
     "ename": "KeyboardInterrupt",
     "evalue": "",
     "output_type": "error",
     "traceback": [
      "\u001b[1;31m---------------------------------------------------------------------------\u001b[0m",
      "\u001b[1;31mKeyboardInterrupt\u001b[0m                         Traceback (most recent call last)",
      "\u001b[1;32m<ipython-input-133-0580c4b36f42>\u001b[0m in \u001b[0;36m<module>\u001b[1;34m\u001b[0m\n\u001b[0;32m      7\u001b[0m   \u001b[1;32melse\u001b[0m\u001b[1;33m:\u001b[0m\u001b[1;33m\u001b[0m\u001b[1;33m\u001b[0m\u001b[0m\n\u001b[0;32m      8\u001b[0m     \u001b[0msample\u001b[0m\u001b[1;33m(\u001b[0m\u001b[0mDRUM_CYMBAL_CLOSED\u001b[0m\u001b[1;33m)\u001b[0m\u001b[1;33m\u001b[0m\u001b[1;33m\u001b[0m\u001b[0m\n\u001b[1;32m----> 9\u001b[1;33m     \u001b[0msleep\u001b[0m\u001b[1;33m(\u001b[0m\u001b[1;36m0.25\u001b[0m\u001b[1;33m)\u001b[0m\u001b[1;33m\u001b[0m\u001b[1;33m\u001b[0m\u001b[0m\n\u001b[0m",
      "\u001b[1;32m~\\anaconda3\\lib\\site-packages\\psonic\\psonic.py\u001b[0m in \u001b[0;36msleep\u001b[1;34m(duration)\u001b[0m\n\u001b[0;32m     85\u001b[0m     \u001b[1;33m:\u001b[0m\u001b[1;32mreturn\u001b[0m\u001b[1;33m:\u001b[0m\u001b[1;33m\u001b[0m\u001b[1;33m\u001b[0m\u001b[0m\n\u001b[0;32m     86\u001b[0m     \"\"\"\n\u001b[1;32m---> 87\u001b[1;33m     \u001b[0msynth_server\u001b[0m\u001b[1;33m.\u001b[0m\u001b[0msleep\u001b[0m\u001b[1;33m(\u001b[0m\u001b[0mduration\u001b[0m\u001b[1;33m)\u001b[0m\u001b[1;33m\u001b[0m\u001b[1;33m\u001b[0m\u001b[0m\n\u001b[0m\u001b[0;32m     88\u001b[0m     \u001b[0m_debug\u001b[0m\u001b[1;33m(\u001b[0m\u001b[1;34m'sleep'\u001b[0m\u001b[1;33m,\u001b[0m \u001b[0mduration\u001b[0m\u001b[1;33m)\u001b[0m\u001b[1;33m\u001b[0m\u001b[1;33m\u001b[0m\u001b[0m\n\u001b[0;32m     89\u001b[0m \u001b[1;33m\u001b[0m\u001b[0m\n",
      "\u001b[1;32m~\\anaconda3\\lib\\site-packages\\psonic\\synth_server.py\u001b[0m in \u001b[0;36msleep\u001b[1;34m(self, duration)\u001b[0m\n\u001b[0;32m     33\u001b[0m \u001b[1;33m\u001b[0m\u001b[0m\n\u001b[0;32m     34\u001b[0m     \u001b[1;32mdef\u001b[0m \u001b[0msleep\u001b[0m\u001b[1;33m(\u001b[0m\u001b[0mself\u001b[0m\u001b[1;33m,\u001b[0m \u001b[0mduration\u001b[0m\u001b[1;33m)\u001b[0m\u001b[1;33m:\u001b[0m\u001b[1;33m\u001b[0m\u001b[1;33m\u001b[0m\u001b[0m\n\u001b[1;32m---> 35\u001b[1;33m         \u001b[0mtime\u001b[0m\u001b[1;33m.\u001b[0m\u001b[0msleep\u001b[0m\u001b[1;33m(\u001b[0m\u001b[0mduration\u001b[0m\u001b[1;33m)\u001b[0m\u001b[1;33m\u001b[0m\u001b[1;33m\u001b[0m\u001b[0m\n\u001b[0m\u001b[0;32m     36\u001b[0m \u001b[1;33m\u001b[0m\u001b[0m\n\u001b[0;32m     37\u001b[0m     \u001b[1;32mdef\u001b[0m \u001b[0msample\u001b[0m\u001b[1;33m(\u001b[0m\u001b[0mself\u001b[0m\u001b[1;33m,\u001b[0m \u001b[0mcommand\u001b[0m\u001b[1;33m)\u001b[0m\u001b[1;33m:\u001b[0m\u001b[1;33m\u001b[0m\u001b[1;33m\u001b[0m\u001b[0m\n",
      "\u001b[1;31mKeyboardInterrupt\u001b[0m: "
     ]
    }
   ],
   "source": [
    "# An infinite loop and if\n",
    "\n",
    "while True:\n",
    "  if one_in(2):\n",
    "    sample(DRUM_HEAVY_KICK)\n",
    "    sleep(0.5)\n",
    "  else:\n",
    "    sample(DRUM_CYMBAL_CLOSED)\n",
    "    sleep(0.25)"
   ]
  },
  {
   "cell_type": "code",
   "execution_count": 134,
   "id": "8dd890b1",
   "metadata": {},
   "outputs": [
    {
     "ename": "KeyboardInterrupt",
     "evalue": "",
     "output_type": "error",
     "traceback": [
      "\u001b[1;31m---------------------------------------------------------------------------\u001b[0m",
      "\u001b[1;31mKeyboardInterrupt\u001b[0m                         Traceback (most recent call last)",
      "\u001b[1;32m<ipython-input-134-055f6d1822c5>\u001b[0m in \u001b[0;36m<module>\u001b[1;34m\u001b[0m\n\u001b[0;32m     24\u001b[0m \u001b[1;33m\u001b[0m\u001b[0m\n\u001b[0;32m     25\u001b[0m \u001b[1;32mwhile\u001b[0m \u001b[1;32mTrue\u001b[0m\u001b[1;33m:\u001b[0m\u001b[1;33m\u001b[0m\u001b[1;33m\u001b[0m\u001b[0m\n\u001b[1;32m---> 26\u001b[1;33m     \u001b[1;32mpass\u001b[0m\u001b[1;33m\u001b[0m\u001b[1;33m\u001b[0m\u001b[0m\n\u001b[0m",
      "\u001b[1;31mKeyboardInterrupt\u001b[0m: "
     ]
    }
   ],
   "source": [
    "# If you want to hear more than one sound at a time, use Threads.\n",
    "\n",
    "import random\n",
    "from psonic import *\n",
    "from threading import Thread\n",
    "\n",
    "def bass_sound():\n",
    "    c = chord(E3, MAJOR7)\n",
    "    while True:\n",
    "        use_synth(PROPHET)\n",
    "        play(random.choice(c), release=0.6)\n",
    "        sleep(0.5)\n",
    "\n",
    "def snare_sound():\n",
    "    while True:\n",
    "        sample(ELEC_SNARE)\n",
    "        sleep(1)\n",
    "\n",
    "bass_thread = Thread(target=bass_sound)\n",
    "snare_thread = Thread(target=snare_sound)\n",
    "\n",
    "bass_thread.start()\n",
    "snare_thread.start()\n",
    "\n",
    "while True:\n",
    "    pass"
   ]
  },
  {
   "cell_type": "code",
   "execution_count": 1,
   "id": "c121a409",
   "metadata": {},
   "outputs": [
    {
     "name": "stdout",
     "output_type": "stream",
     "text": [
      "Press Enter to continue...\n"
     ]
    },
    {
     "data": {
      "text/plain": [
       "''"
      ]
     },
     "execution_count": 1,
     "metadata": {},
     "output_type": "execute_result"
    }
   ],
   "source": [
    "# Every function bass_sound and snare_sound have its own thread. Your can hear them running.\n",
    "\n",
    "from psonic import *\n",
    "from threading import Thread, Condition\n",
    "from random import choice\n",
    "\n",
    "def random_riff(condition):\n",
    "    use_synth(PROPHET)\n",
    "    sc = scale(E3, MINOR)\n",
    "    while True:\n",
    "        s = random.choice([0.125,0.25,0.5])\n",
    "        with condition:\n",
    "            condition.wait() #Wait for message\n",
    "        for i in range(8):\n",
    "            r = random.choice([0.125, 0.25, 1, 2])\n",
    "            n = random.choice(sc)\n",
    "            co = random.randint(30,100)\n",
    "            play(n, release = r, cutoff = co)\n",
    "            sleep(s)\n",
    "\n",
    "def drums(condition):\n",
    "    while True:\n",
    "        with condition:\n",
    "            condition.notifyAll() #Message to threads\n",
    "        for i in range(16):\n",
    "            r = random.randrange(1,10)\n",
    "            sample(DRUM_BASS_HARD, rate=r)\n",
    "            sleep(0.125)\n",
    "\n",
    "condition = Condition()\n",
    "random_riff_thread = Thread(name='consumer1', target=random_riff, args=(condition,))\n",
    "drums_thread = Thread(name='producer', target=drums, args=(condition,))\n",
    "\n",
    "random_riff_thread.start()\n",
    "drums_thread.start()"
   ]
  },
  {
   "cell_type": "code",
   "execution_count": 1,
   "id": "21e28737",
   "metadata": {},
   "outputs": [],
   "source": [
    "# To synchronize the thread, so that they play a note at the same time, you can use Condition. One function sends a message with condition.notify All the other waits until the message comes condition.wait. More simple with decorator __@in_thread__\n",
    "\n",
    "from psonic import *\n",
    "from random import choice\n",
    "\n",
    "tick = Message()\n",
    "\n",
    "@in_thread\n",
    "def random_riff():\n",
    "    use_synth(PROPHET)\n",
    "    sc = scale(E3, MINOR)\n",
    "    while True:\n",
    "        s = random.choice([0.125,0.25,0.5])\n",
    "        tick.sync()\n",
    "        for i in range(8):\n",
    "            r = random.choice([0.125, 0.25, 1, 2])\n",
    "            n = random.choice(sc)\n",
    "            co = random.randint(30,100)\n",
    "            play(n, release = r, cutoff = co)\n",
    "            sleep(s)\n",
    "\n",
    "@in_thread\n",
    "def drums():\n",
    "    while True:\n",
    "        tick.cue()\n",
    "        for i in range(16):\n",
    "            r = random.randrange(1,10)\n",
    "            sample(DRUM_BASS_HARD, rate=r)\n",
    "            sleep(0.125)\n",
    "\n",
    "random_riff()\n",
    "drums()"
   ]
  },
  {
   "cell_type": "code",
   "execution_count": 1,
   "id": "3204d500",
   "metadata": {},
   "outputs": [
    {
     "ename": "KeyboardInterrupt",
     "evalue": "",
     "output_type": "error",
     "traceback": [
      "\u001b[1;31m---------------------------------------------------------------------------\u001b[0m",
      "\u001b[1;31mKeyboardInterrupt\u001b[0m                         Traceback (most recent call last)",
      "\u001b[1;32m<ipython-input-1-3f47b9b643d3>\u001b[0m in \u001b[0;36m<module>\u001b[1;34m\u001b[0m\n\u001b[0;32m     19\u001b[0m \u001b[1;33m\u001b[0m\u001b[0m\n\u001b[0;32m     20\u001b[0m \u001b[1;32mwhile\u001b[0m \u001b[1;32mTrue\u001b[0m\u001b[1;33m:\u001b[0m\u001b[1;33m\u001b[0m\u001b[1;33m\u001b[0m\u001b[0m\n\u001b[1;32m---> 21\u001b[1;33m     \u001b[1;32mpass\u001b[0m\u001b[1;33m\u001b[0m\u001b[1;33m\u001b[0m\u001b[0m\n\u001b[0m",
      "\u001b[1;31mKeyboardInterrupt\u001b[0m: "
     ]
    }
   ],
   "source": [
    "from psonic import *\n",
    "\n",
    "tick = Message()\n",
    "\n",
    "@in_thread\n",
    "def metronom():\n",
    "    while True:\n",
    "        tick.cue()\n",
    "        sleep(1)\n",
    "\n",
    "@in_thread\n",
    "def instrument():\n",
    "    while True:\n",
    "        tick.sync()\n",
    "        sample(DRUM_HEAVY_KICK)\n",
    "\n",
    "metronom()\n",
    "instrument()\n",
    "\n",
    "while True:\n",
    "    pass"
   ]
  },
  {
   "cell_type": "code",
   "execution_count": 2,
   "id": "fffa4ad2",
   "metadata": {},
   "outputs": [],
   "source": [
    "# Play a list of notes\n",
    "\n",
    "from psonic import *\n",
    "\n",
    "play ([64, 67, 71], amp = 0.3)\n",
    "sleep(1)\n",
    "play ([E4, G4, B4])\n",
    "sleep(1)\n"
   ]
  },
  {
   "cell_type": "code",
   "execution_count": 3,
   "id": "16967df9",
   "metadata": {},
   "outputs": [],
   "source": [
    "# Play chords\n",
    "\n",
    "play(chord(E4, MINOR))\n",
    "sleep(1)\n",
    "play(chord(E4, MAJOR))\n",
    "sleep(1)\n",
    "play(chord(E4, MINOR7))\n",
    "sleep(1)\n",
    "play(chord(E4, DOM7))\n",
    "sleep(1)"
   ]
  },
  {
   "cell_type": "code",
   "execution_count": 4,
   "id": "80eeb203",
   "metadata": {},
   "outputs": [],
   "source": [
    "# Play arpeggios\n",
    "\n",
    "play_pattern( chord(E4, 'm7'))\n",
    "play_pattern_timed( chord(E4, 'm7'), 0.25)\n",
    "play_pattern_timed(chord(E4, 'dim'), [0.25, 0.5])"
   ]
  },
  {
   "cell_type": "code",
   "execution_count": 5,
   "id": "7a3f11dc",
   "metadata": {},
   "outputs": [],
   "source": [
    "# Play scales\n",
    "\n",
    "play_pattern_timed(scale(C3, MAJOR), 0.125, release = 0.1)\n",
    "play_pattern_timed(scale(C3, MAJOR, num_octaves = 2), 0.125, release = 0.1)\n",
    "play_pattern_timed(scale(C3, MAJOR_PENTATONIC, num_octaves = 2), 0.125, release = 0.1)"
   ]
  },
  {
   "cell_type": "code",
   "execution_count": 11,
   "id": "245bf92a",
   "metadata": {
    "collapsed": true
   },
   "outputs": [],
   "source": [
    "# The function scale returns a list with all notes of a scale. So you can use list methodes or functions. For example to play arpeggios descending or shuffeld.\n",
    "\n",
    "import random\n",
    "from psonic import *\n",
    "\n",
    "#s = scale(C3, MAJOR)\n",
    "s = [48, 50, 52, 53, 55, 57, 59, 60]\n",
    "s.reverse()\n",
    "play_pattern_timed(s, 0.125, release = 0.1)\n",
    "random.shuffle(s)\n",
    "play_pattern_timed(s, 0.125, release = 0.1)"
   ]
  },
  {
   "cell_type": "code",
   "execution_count": 15,
   "id": "6c2af56e",
   "metadata": {},
   "outputs": [],
   "source": [
    "# One of the best in SONIC PI is the Live Loop. \n",
    "# While a loop is playing music you can change it and hear the change. \n",
    "# Let’s try it in Python, too.\n",
    "\n",
    "from psonic import *\n",
    "from threading import Thread\n",
    "\n",
    "def my_loop():\n",
    "  play(60)\n",
    "  sleep(1)\n",
    "\n",
    "def looper():\n",
    "  while True:\n",
    "    my_loop()\n",
    "\n",
    "looper_thread = Thread(name='looper', target=looper)\n",
    "\n",
    "looper_thread.start()"
   ]
  },
  {
   "cell_type": "code",
   "execution_count": 17,
   "id": "7619af51",
   "metadata": {},
   "outputs": [],
   "source": [
    "# Now change the function my_loop und you can hear it.\n",
    "\n",
    "def my_loop():\n",
    "  use_synth(TB303)\n",
    "  play (60, release= 0.3)\n",
    "  sleep (0.25)\n",
    "\n",
    "def my_loop():\n",
    "  use_synth(TB303)\n",
    "  play (chord(E3, MINOR), release= 0.3)\n",
    "  sleep(0.5)\n",
    "\n",
    "def my_loop():\n",
    "    use_synth(TB303)\n",
    "    sample(DRUM_BASS_HARD, rate = random.uniform(0.5, 2))\n",
    "    play(random.choice(chord(E3, MINOR)), release= 0.2, cutoff=random.randrange(60, 130))\n",
    "    sleep(0.25)\n",
    "\n",
    "# To stop the sound you have to end the kernel. In IPython with Kernel –> Restart"
   ]
  },
  {
   "cell_type": "code",
   "execution_count": 18,
   "id": "a43de306",
   "metadata": {
    "collapsed": true
   },
   "outputs": [],
   "source": [
    "# Now with two live loops which are synch.\n",
    "\n",
    "from psonic import *\n",
    "from threading import Thread, Condition\n",
    "from random import choice\n",
    "\n",
    "def loop_foo():\n",
    "  play (E4, release = 0.5)\n",
    "  sleep (0.5)\n",
    "\n",
    "\n",
    "def loop_bar():\n",
    "  sample (DRUM_SNARE_SOFT)\n",
    "  sleep (1)\n",
    "\n",
    "\n",
    "def live_loop_1(condition):\n",
    "    while True:\n",
    "        with condition:\n",
    "            condition.notifyAll() #Message to threads\n",
    "        loop_foo()\n",
    "\n",
    "def live_loop_2(condition):\n",
    "    while True:\n",
    "        with condition:\n",
    "            condition.wait() #Wait for message\n",
    "        loop_bar()\n",
    "\n",
    "condition = Condition()\n",
    "live_thread_1 = Thread(name='producer', target=live_loop_1, args=(condition,))\n",
    "live_thread_2 = Thread(name='consumer1', target=live_loop_2, args=(condition,))\n",
    "\n",
    "live_thread_1.start()\n",
    "live_thread_2.start()"
   ]
  },
  {
   "cell_type": "code",
   "execution_count": null,
   "id": "ddd99d7b",
   "metadata": {},
   "outputs": [],
   "source": [
    "# For more help see:\n",
    "# https://github.com/gkvoelkl/python-sonic\n",
    "# https://sonic-pi.net/"
   ]
  }
 ],
 "metadata": {
  "kernelspec": {
   "display_name": "Python 3",
   "language": "python",
   "name": "python3"
  },
  "language_info": {
   "codemirror_mode": {
    "name": "ipython",
    "version": 3
   },
   "file_extension": ".py",
   "mimetype": "text/x-python",
   "name": "python",
   "nbconvert_exporter": "python",
   "pygments_lexer": "ipython3",
   "version": "3.8.8"
  }
 },
 "nbformat": 4,
 "nbformat_minor": 5
}
