{
 "cells": [
  {
   "cell_type": "code",
   "execution_count": 1,
   "id": "c36898fd",
   "metadata": {},
   "outputs": [],
   "source": [
    "# Please note that altough the copyright on the music have been expired for many years, there might be some copyright as the MIDI file was donwloaded from [¹Beethoven: complete piano Sonatas in MIDI files](https://kunstderfuge.com/beethoven/sonatas.htm)\n",
    "#!pip install pygame\n",
    "#!pip install -c cogsci # this did not work...\n",
    "\n"
   ]
  },
  {
   "cell_type": "code",
   "execution_count": null,
   "id": "e3d5432a",
   "metadata": {},
   "outputs": [
    {
     "name": "stdout",
     "output_type": "stream",
     "text": [
      "pygame 2.1.2 (SDL 2.0.18, Python 3.8.8)\n",
      "Hello from the pygame community. https://www.pygame.org/contribute.html\n"
     ]
    }
   ],
   "source": [
    "# Please not that altough Ludwig von Beethoven has already been dead for more than 70 years and therefor the copyright on the music, that there might be still copyright on the midi-file as this was downloaded from https://kunstderfuge.com\n",
    "\n",
    "midi_filename = '6101-2d_moonlight_sonata_27-2_1_2_(nc)smythe.mid'\n",
    "\n",
    "# Please not that this code is (partly) from https://www.daniweb.com/programming/software-development/code/216979/embed-and-play-midi-music-in-your-code-python\n",
    "\n",
    "# conda install -c cogsci pygame\n",
    "import pygame\n",
    "\n",
    "def play_music(midi_filename):\n",
    "  '''Stream music_file in a blocking manner'''\n",
    "  clock = pygame.time.Clock()\n",
    "  pygame.mixer.music.load(midi_filename)\n",
    "  pygame.mixer.music.play()\n",
    "  while pygame.mixer.music.get_busy():\n",
    "    clock.tick(30) # check if playback has finished\n",
    "    \n",
    "\n",
    "# mixer config\n",
    "freq = 44100  # audio CD quality\n",
    "bitsize = -16   # unsigned 16 bit\n",
    "channels = 2  # 1 is mono, 2 is stereo\n",
    "buffer = 1024   # number of samples\n",
    "pygame.mixer.init(freq, bitsize, channels, buffer)\n",
    "\n",
    "# optional volume 0 to 1.0\n",
    "pygame.mixer.music.set_volume(0.8)\n",
    "\n",
    "# listen for interruptions\n",
    "try:\n",
    "  # use the midi file you just saved\n",
    "  play_music(midi_filename)\n",
    "except KeyboardInterrupt:\n",
    "  # if user hits Ctrl/C then exit\n",
    "  # (works only in console mode)\n",
    "  pygame.mixer.music.fadeout(1000)\n",
    "  pygame.mixer.music.stop()\n",
    "  raise SystemExit"
   ]
  }
 ],
 "metadata": {
  "kernelspec": {
   "display_name": "Python 3",
   "language": "python",
   "name": "python3"
  },
  "language_info": {
   "codemirror_mode": {
    "name": "ipython",
    "version": 3
   },
   "file_extension": ".py",
   "mimetype": "text/x-python",
   "name": "python",
   "nbconvert_exporter": "python",
   "pygments_lexer": "ipython3",
   "version": "3.8.8"
  }
 },
 "nbformat": 4,
 "nbformat_minor": 5
}
