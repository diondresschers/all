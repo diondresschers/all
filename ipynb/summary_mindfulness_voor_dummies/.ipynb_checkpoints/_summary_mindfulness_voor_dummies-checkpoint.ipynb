{
 "cells": [
  {
   "cell_type": "code",
   "execution_count": 4,
   "id": "423fda1a",
   "metadata": {},
   "outputs": [],
   "source": [
    "from IPython.display import display, Markdown, Latex\n",
    "# If you particularly want to display maths, this is more direct:\n",
    "# display(Latex('\\phi'))\n",
    "\n"
   ]
  },
  {
   "cell_type": "code",
   "execution_count": 60,
   "id": "87f8ef15",
   "metadata": {},
   "outputs": [],
   "source": [
    "variables = {\n",
    "    \"title\" : \"Summary of book Mindfulness voor dummies\",\n",
    "    \"inception_date\" : \"2022-01-15\",\n",
    "    \"target_audience\" : \"People interested in mindfulness\",\n",
    "    \"licence\" : \"[CC BY-SA 4.0](https://creativecommons.org/licenses/by-sa/4.0/)\",\n",
    "    \"inspiration\" : \"Mindfulness voor dummies\",\n",
    "    \"location_original_file\" : \"\",\n",
    "    \"status\" : \"concept\",\n",
    "    \"version\" : \"2022-02-15T10:33\",\n",
    "}"
   ]
  },
  {
   "cell_type": "code",
   "execution_count": 69,
   "id": "53775ca6",
   "metadata": {},
   "outputs": [],
   "source": [
    "title = \"# \" + variables[\"title\"] + \"\\n\""
   ]
  },
  {
   "cell_type": "code",
   "execution_count": 70,
   "id": "f5e141ff",
   "metadata": {},
   "outputs": [],
   "source": [
    "details = \"* Title: \" + variables[\"title\"] + \"\\n\" + \\\n",
    "\"* Inception date: \" + variables[\"inception_date\"] + \"\\n\" + \\\n",
    "\"* Target audience\" + variables[\"target_audience\"] + \"\\n\" + \\\n",
    "\"* License: \" + variables[\"licence\"] + \"\\n\" + \\\n",
    "\"* Inspiration: \" + variables[\"inspiration\"] + \"\\n\" + \\\n",
    "\"* Location original file: \" + variables[\"location_original_file\"] + \"\\n\" + \\\n",
    "\"* Status: \" + variables[\"status\"] + \"\\n\" + \\\n",
    "\"* Version: \" + variables[\"version\"] + \"2022-02-15T10:33\" + \"\\n\""
   ]
  },
  {
   "cell_type": "code",
   "execution_count": null,
   "id": "9dec5516",
   "metadata": {},
   "outputs": [],
   "source": [
    "introduction = \"\"\"\n",
    "\"\"\""
   ]
  },
  {
   "cell_type": "code",
   "execution_count": 78,
   "id": "2fae3b2a",
   "metadata": {},
   "outputs": [],
   "source": [
    "body_1 = \"\"\"\n",
    "# Reference sheet\n",
    "\n",
    "* nieuwschierigheid\n",
    "* acceptatie\n",
    "* vriendelijkheid\n",
    "* laten gaan\n",
    "* zonder oordeel\n",
    "* zonder inspanning\n",
    "* geduld\n",
    "* vertrouwen\n",
    "* geest van de beginner\n",
    "\n",
    "# Drie pijlers van mindfulness (HIN)\n",
    "\n",
    "1. Houding,\n",
    "1. Intentie, &\n",
    "1. Aandacht\n",
    "\n",
    "\"\"\""
   ]
  },
  {
   "cell_type": "code",
   "execution_count": 10,
   "id": "aff384e5",
   "metadata": {},
   "outputs": [],
   "source": [
    "body_2 = \"\"\"\n",
    "\"\"\""
   ]
  },
  {
   "cell_type": "code",
   "execution_count": 11,
   "id": "22db1c41",
   "metadata": {},
   "outputs": [],
   "source": [
    "body_3 = \"\"\"\n",
    "\"\"\""
   ]
  },
  {
   "cell_type": "code",
   "execution_count": 12,
   "id": "11e435c5",
   "metadata": {},
   "outputs": [],
   "source": [
    "conclusion = \"\"\"\n",
    "\"\"\""
   ]
  },
  {
   "cell_type": "code",
   "execution_count": 13,
   "id": "944a3e30",
   "metadata": {},
   "outputs": [],
   "source": [
    "discussion = \"\"\"\n",
    "\"\"\""
   ]
  },
  {
   "cell_type": "code",
   "execution_count": 73,
   "id": "a419166d",
   "metadata": {},
   "outputs": [],
   "source": [
    "references = \"\"\"\n",
    "\"\"\""
   ]
  },
  {
   "cell_type": "code",
   "execution_count": 79,
   "id": "a6447578",
   "metadata": {},
   "outputs": [
    {
     "data": {
      "text/markdown": [
       "# Summary of book Mindfulness voor dummies\n",
       "* Title: Summary of book Mindfulness voor dummies\n",
       "* Inception date: 2022-01-15\n",
       "* Target audiencePeople interested in mindfulness\n",
       "* License: [CC BY-SA 4.0](https://creativecommons.org/licenses/by-sa/4.0/)\n",
       "* Inspiration: Mindfulness voor dummies\n",
       "* Location original file: \n",
       "* Status: concept\n",
       "* Version: 2022-02-15T10:332022-02-15T10:33\n",
       "   \n",
       "\n",
       "# Reference sheet\n",
       "\n",
       "* nieuwschierigheid\n",
       "* acceptatie\n",
       "* vriendelijkheid\n",
       "* laten gaan\n",
       "* zonder oordeel\n",
       "* zonder inspanning\n",
       "* geduld\n",
       "* vertrouwen\n",
       "* geest van de beginner\n",
       "\n",
       "# Drie pijlers van mindfulness\n",
       "\n",
       "1. Intentie,\n",
       "1. Aandacht, &\n",
       "1. Houding\n",
       "\n",
       "\n",
       "\n",
       "\n",
       "\n",
       "\n",
       "\n",
       "\n",
       "\n"
      ],
      "text/plain": [
       "<IPython.core.display.Markdown object>"
      ]
     },
     "metadata": {},
     "output_type": "display_data"
    }
   ],
   "source": [
    "essay = title + details + introduction + body_1 + body_2 + body_3 + conclusion + discussion + references\n",
    "display(Markdown(essay))"
   ]
  }
 ],
 "metadata": {
  "kernelspec": {
   "display_name": "Python 3",
   "language": "python",
   "name": "python3"
  },
  "language_info": {
   "codemirror_mode": {
    "name": "ipython",
    "version": 3
   },
   "file_extension": ".py",
   "mimetype": "text/x-python",
   "name": "python",
   "nbconvert_exporter": "python",
   "pygments_lexer": "ipython3",
   "version": "3.8.8"
  }
 },
 "nbformat": 4,
 "nbformat_minor": 5
}
